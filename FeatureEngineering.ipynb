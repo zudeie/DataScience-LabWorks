{
 "cells": [
  {
   "cell_type": "markdown",
   "metadata": {},
   "source": [
    "## Importing libraries"
   ]
  },
  {
   "cell_type": "code",
   "execution_count": null,
   "metadata": {},
   "outputs": [],
   "source": [
    "import pandas as pd\n",
    "from sklearn.preprocessing import StandardScaler\n",
    "from sklearn.decomposition import PCA\n",
    "import numpy as np\n",
    "from sklearn.feature_selection import SelectKBest, f_classif\n"
   ]
  },
  {
   "cell_type": "markdown",
   "metadata": {},
   "source": [
    "### Load the dataset\n",
    "### Drop unnecessary column\n",
    "### Handle missing values (if any)"
   ]
  },
  {
   "cell_type": "code",
   "execution_count": 26,
   "metadata": {},
   "outputs": [],
   "source": [
    "# Load the dataset\n",
    "df = pd.read_csv(\"Health.csv\")\n",
    "\n",
    "# Drop unnecessary column\n",
    "df = df.drop(columns=['Unnamed: 0'])\n",
    "\n",
    "# Handle missing values (if any)\n",
    "df = df.dropna()"
   ]
  },
  {
   "cell_type": "markdown",
   "metadata": {},
   "source": [
    "# Handle categorical values"
   ]
  },
  {
   "cell_type": "code",
   "execution_count": null,
   "metadata": {},
   "outputs": [],
   "source": [
    "# Handle categorical values\n",
    "categorical_columns = df.select_dtypes(include=['object']).columns\n",
    "if len(categorical_columns) > 0:\n",
    "    encoder = OneHotEncoder(drop='first', sparse=False)\n",
    "    encoded_cats = encoder.fit_transform(df[categorical_columns])\n",
    "    df = df.drop(columns=categorical_columns)\n",
    "    df = pd.concat([df, pd.DataFrame(encoded_cats)], axis=1)\n"
   ]
  },
  {
   "cell_type": "markdown",
   "metadata": {},
   "source": [
    "##  Scale the features"
   ]
  },
  {
   "cell_type": "code",
   "execution_count": null,
   "metadata": {},
   "outputs": [
    {
     "name": "stderr",
     "output_type": "stream",
     "text": [
      "C:\\Users\\Bansack000\\AppData\\Local\\Temp\\ipykernel_6872\\416135940.py:4: FutureWarning: Setting an item of incompatible dtype is deprecated and will raise in a future error of pandas. Value '[ 1.34673151 -1.61592323 -0.99583271 ... -1.40922639 -0.16904533\n",
      "  0.3132473 ]' has dtype incompatible with int64, please explicitly cast to a compatible dtype first.\n",
      "  df_scaled.iloc[:, :-1] = scaler.fit_transform(df.iloc[:, :-1]).astype(float)  # Explicitly cast to float\n",
      "C:\\Users\\Bansack000\\AppData\\Local\\Temp\\ipykernel_6872\\416135940.py:4: FutureWarning: Setting an item of incompatible dtype is deprecated and will raise in a future error of pandas. Value '[ 1.00184116  1.00184116 -0.99816222 ...  1.00184116  1.00184116\n",
      "  1.00184116]' has dtype incompatible with int64, please explicitly cast to a compatible dtype first.\n",
      "  df_scaled.iloc[:, :-1] = scaler.fit_transform(df.iloc[:, :-1]).astype(float)  # Explicitly cast to float\n",
      "C:\\Users\\Bansack000\\AppData\\Local\\Temp\\ipykernel_6872\\416135940.py:4: FutureWarning: Setting an item of incompatible dtype is deprecated and will raise in a future error of pandas. Value '[ 1.28199064 -1.36078644 -1.11302609 ...  1.44716421 -0.28715825\n",
      " -1.27819966]' has dtype incompatible with int64, please explicitly cast to a compatible dtype first.\n",
      "  df_scaled.iloc[:, :-1] = scaler.fit_transform(df.iloc[:, :-1]).astype(float)  # Explicitly cast to float\n",
      "C:\\Users\\Bansack000\\AppData\\Local\\Temp\\ipykernel_6872\\416135940.py:4: FutureWarning: Setting an item of incompatible dtype is deprecated and will raise in a future error of pandas. Value '[ 0.00727678  0.30192025 -1.68692317 ...  0.81754632  1.11218979\n",
      " -0.43468842]' has dtype incompatible with int64, please explicitly cast to a compatible dtype first.\n",
      "  df_scaled.iloc[:, :-1] = scaler.fit_transform(df.iloc[:, :-1]).astype(float)  # Explicitly cast to float\n",
      "C:\\Users\\Bansack000\\AppData\\Local\\Temp\\ipykernel_6872\\416135940.py:4: FutureWarning: Setting an item of incompatible dtype is deprecated and will raise in a future error of pandas. Value '[-0.29908175 -0.92339267 -0.35583729 ... -0.8950149   0.32522916\n",
      " -0.63961498]' has dtype incompatible with int64, please explicitly cast to a compatible dtype first.\n",
      "  df_scaled.iloc[:, :-1] = scaler.fit_transform(df.iloc[:, :-1]).astype(float)  # Explicitly cast to float\n",
      "C:\\Users\\Bansack000\\AppData\\Local\\Temp\\ipykernel_6872\\416135940.py:4: FutureWarning: Setting an item of incompatible dtype is deprecated and will raise in a future error of pandas. Value '[-0.16172015 -1.23594809 -0.16172015 ... -0.77556469  2.19135058\n",
      "  0.45212439]' has dtype incompatible with int64, please explicitly cast to a compatible dtype first.\n",
      "  df_scaled.iloc[:, :-1] = scaler.fit_transform(df.iloc[:, :-1]).astype(float)  # Explicitly cast to float\n",
      "C:\\Users\\Bansack000\\AppData\\Local\\Temp\\ipykernel_6872\\416135940.py:4: FutureWarning: Setting an item of incompatible dtype is deprecated and will raise in a future error of pandas. Value '[-0.64816247 -0.48231029  1.34206371 ... -0.15060592  0.95507529\n",
      " -0.53759435]' has dtype incompatible with int64, please explicitly cast to a compatible dtype first.\n",
      "  df_scaled.iloc[:, :-1] = scaler.fit_transform(df.iloc[:, :-1]).astype(float)  # Explicitly cast to float\n"
     ]
    }
   ],
   "source": [
    "# Scale the numerical features\n",
    "scaler = StandardScaler()\n",
    "df_scaled = df.copy()\n",
    "df_scaled.iloc[:, :-1] = scaler.fit_transform(df.iloc[:, :-1]).astype(float)  \n"
   ]
  },
  {
   "cell_type": "markdown",
   "metadata": {},
   "source": [
    "## remove outliers"
   ]
  },
  {
   "cell_type": "code",
   "execution_count": 30,
   "metadata": {},
   "outputs": [],
   "source": [
    "# Detect and remove outliers using Z-score method (threshold = 3)\n",
    "z_scores = np.abs(df_scaled.iloc[:, :-1])  # Compute Z-scores for all features except the target\n",
    "df_cleaned = df_scaled[(z_scores < 3).all(axis=1)]\n",
    "\n"
   ]
  },
  {
   "cell_type": "markdown",
   "metadata": {},
   "source": [
    "## Feature Selection"
   ]
  },
  {
   "cell_type": "code",
   "execution_count": 40,
   "metadata": {},
   "outputs": [],
   "source": [
    "# Feature selection using SelectKBest\n",
    "X = df_cleaned.iloc[:, :-1]\n",
    "y = df_cleaned.iloc[:, -1]\n",
    "selector = SelectKBest(score_func=f_classif, k=X.shape[1])\n",
    "X_selected = selector.fit_transform(X, y)\n",
    "\n"
   ]
  },
  {
   "cell_type": "markdown",
   "metadata": {},
   "source": [
    "## PCA"
   ]
  },
  {
   "cell_type": "code",
   "execution_count": 41,
   "metadata": {},
   "outputs": [
    {
     "name": "stdout",
     "output_type": "stream",
     "text": [
      "Original feature count: 8\n",
      "Reduced feature count after PCA: 7\n",
      "Explained variance ratio: [0.19795352 0.17600756 0.12633067 0.12561105 0.12476293 0.12452003\n",
      " 0.12372267]\n"
     ]
    }
   ],
   "source": [
    "# Perform PCA to reduce dimensionality\n",
    "pca = PCA(n_components=0.95)  # Retain 95% of variance\n",
    "df_pca = pca.fit_transform(X_selected)\n",
    "\n",
    "# Display the number of components selected\n",
    "print(f\"Original feature count: {df.shape[1] - 1}\")  # Excluding target\n",
    "print(f\"Reduced feature count after PCA: {df_pca.shape[1]}\")\n",
    "\n",
    "# Show explained variance ratio\n",
    "print(\"Explained variance ratio:\", pca.explained_variance_ratio_)"
   ]
  }
 ],
 "metadata": {
  "kernelspec": {
   "display_name": "Python 3",
   "language": "python",
   "name": "python3"
  },
  "language_info": {
   "codemirror_mode": {
    "name": "ipython",
    "version": 3
   },
   "file_extension": ".py",
   "mimetype": "text/x-python",
   "name": "python",
   "nbconvert_exporter": "python",
   "pygments_lexer": "ipython3",
   "version": "3.13.1"
  }
 },
 "nbformat": 4,
 "nbformat_minor": 2
}
