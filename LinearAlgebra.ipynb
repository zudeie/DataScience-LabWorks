{
 "cells": [
  {
   "cell_type": "markdown",
   "metadata": {},
   "source": [
    "## Import libraries"
   ]
  },
  {
   "cell_type": "code",
   "execution_count": 1,
   "metadata": {},
   "outputs": [],
   "source": [
    "import numpy as np"
   ]
  },
  {
   "cell_type": "markdown",
   "metadata": {},
   "source": [
    "## Perform Matrix Operation"
   ]
  },
  {
   "cell_type": "code",
   "execution_count": 2,
   "metadata": {},
   "outputs": [
    {
     "name": "stdout",
     "output_type": "stream",
     "text": [
      "A + B:\n",
      " [[ 3  1]\n",
      " [-3  7]]\n",
      "A * B:\n",
      " [[ 5  0]\n",
      " [-9 12]]\n",
      "3A - 2B:\n",
      " [[ 4 -7]\n",
      " [ 6  1]]\n"
     ]
    }
   ],
   "source": [
    "# Define matrices A and B\n",
    "A = np.array([[2, -1], [0, 3]])\n",
    "B = np.array([[1, 2], [-3, 4]])\n",
    "\n",
    "# Perform matrix operations\n",
    "A_plus_B = A + B\n",
    "A_times_B = np.dot(A, B)  # Matrix multiplication\n",
    "three_A_minus_two_B = 3 * A - 2 * B\n",
    "\n",
    "print(\"A + B:\\n\", A_plus_B)\n",
    "print(\"A * B:\\n\", A_times_B)\n",
    "print(\"3A - 2B:\\n\", three_A_minus_two_B)"
   ]
  },
  {
   "cell_type": "code",
   "execution_count": 3,
   "metadata": {},
   "outputs": [
    {
     "name": "stdout",
     "output_type": "stream",
     "text": [
      "Determinant of A: 6.0\n",
      "Inverse of A:\n",
      " [[0.5        0.16666667]\n",
      " [0.         0.33333333]]\n"
     ]
    }
   ],
   "source": [
    "# Define matrix A\n",
    "A = np.array([[2, -1], [0, 3]])\n",
    "\n",
    "# Compute the determinant of A\n",
    "det_A = np.linalg.det(A)\n",
    "\n",
    "# Check if A is invertible and compute its inverse if possible\n",
    "if det_A != 0:\n",
    "    A_inverse = np.linalg.inv(A)\n",
    "else:\n",
    "    A_inverse = \"A is not invertible\"\n",
    "\n",
    "print(\"Determinant of A:\", det_A)\n",
    "print(\"Inverse of A:\\n\", A_inverse)"
   ]
  },
  {
   "cell_type": "markdown",
   "metadata": {},
   "source": [
    "## Eigen values and Prediction"
   ]
  },
  {
   "cell_type": "code",
   "execution_count": 4,
   "metadata": {},
   "outputs": [
    {
     "name": "stdout",
     "output_type": "stream",
     "text": [
      "Eigenvalues of C:\n",
      " [3. 2.]\n",
      "Eigenvectors of C:\n",
      " [[ 0.70710678 -0.4472136 ]\n",
      " [-0.70710678  0.89442719]]\n",
      "Beta coefficients:\n",
      " [ 7.98722045e-03 -1.06581410e-14  1.99680511e-01]\n",
      "Predicted price of Car 3: 39.99999999999997\n"
     ]
    }
   ],
   "source": [
    "# Define matrix C\n",
    "C = np.array([[4, 1], [-2, 1]])\n",
    "\n",
    "# Compute eigenvalues and eigenvectors\n",
    "eigenvalues, eigenvectors = np.linalg.eig(C)\n",
    "\n",
    "# Define feature matrix X and price vector y\n",
    "X = np.array([[4, 1.5, 100], [6, 2.0, 150]])\n",
    "y = np.array([20, 30])\n",
    "\n",
    "# Compute β using the pseudoinverse\n",
    "beta = np.linalg.pinv(X) @ y\n",
    "\n",
    "# Define the feature vector for car 3\n",
    "x3 = np.array([8, 3.0, 200])\n",
    "\n",
    "# Predict the price of car 3\n",
    "price_car3 = x3 @ beta\n",
    "\n",
    "print(\"Eigenvalues of C:\\n\", eigenvalues)\n",
    "print(\"Eigenvectors of C:\\n\", eigenvectors)\n",
    "print(\"Beta coefficients:\\n\", beta)\n",
    "print(\"Predicted price of Car 3:\", price_car3)"
   ]
  }
 ],
 "metadata": {
  "kernelspec": {
   "display_name": "Python 3",
   "language": "python",
   "name": "python3"
  },
  "language_info": {
   "codemirror_mode": {
    "name": "ipython",
    "version": 3
   },
   "file_extension": ".py",
   "mimetype": "text/x-python",
   "name": "python",
   "nbconvert_exporter": "python",
   "pygments_lexer": "ipython3",
   "version": "3.13.1"
  }
 },
 "nbformat": 4,
 "nbformat_minor": 2
}
